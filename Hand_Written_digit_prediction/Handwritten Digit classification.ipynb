{
 "cells": [
  {
   "cell_type": "code",
   "execution_count": 11,
   "metadata": {},
   "outputs": [
    {
     "name": "stdout",
     "output_type": "stream",
     "text": [
      "Extracting MNIST_data/train-images-idx3-ubyte.gz\n",
      "Extracting MNIST_data/train-labels-idx1-ubyte.gz\n",
      "Extracting MNIST_data/t10k-images-idx3-ubyte.gz\n",
      "Extracting MNIST_data/t10k-labels-idx1-ubyte.gz\n"
     ]
    }
   ],
   "source": [
    "#import tensorflow and other libraries\n",
    "\n",
    "import matplotlib.pyplot as plt\n",
    "import os\n",
    "from tensorflow.examples.tutorials.mnist import input_data\n",
    "import numpy as np\n",
    "import pandas as pd\n",
    "from scipy import ndimage\n",
    "from sklearn.metrics import accuracy_score\n",
    "import tensorflow as tf\n",
    "from scipy.misc import imread\n",
    "from PIL import Image, ImageFilter\n",
    "import cv2\n",
    "%matplotlib inline\n",
    "\n",
    "mnist = input_data.read_data_sets(\"MNIST_data/\", one_hot=True)"
   ]
  },
  {
   "cell_type": "code",
   "execution_count": 12,
   "metadata": {},
   "outputs": [
    {
     "name": "stdout",
     "output_type": "stream",
     "text": [
      "Addition: 7.0\n"
     ]
    }
   ],
   "source": [
    "#Testing Tensorflow . it is not part of the project\n",
    "a = tf.placeholder(tf.float32)\n",
    "b = tf.placeholder(tf.float32)\n",
    "\n",
    "addition = tf.add(a, b)\n",
    "\n",
    "# initialize variables\n",
    "init = tf.global_variables_initializer()\n",
    "\n",
    "# create session and run the graph\n",
    "with tf.Session() as sess:\n",
    "    sess.run(init)\n",
    "    print (\"Addition: %.1f\" % sess.run(addition, feed_dict={a: 4, b: 3}))\n",
    "\n",
    "# close session\n",
    "sess.close()"
   ]
  },
  {
   "cell_type": "markdown",
   "metadata": {
    "collapsed": true
   },
   "source": [
    "Let's seed value.  \n",
    "To control our model's Randomness"
   ]
  },
  {
   "cell_type": "code",
   "execution_count": 13,
   "metadata": {
    "collapsed": true
   },
   "outputs": [],
   "source": [
    "seed=128\n",
    "rng = np.random.RandomState(seed)"
   ]
  },
  {
   "cell_type": "code",
   "execution_count": 14,
   "metadata": {
    "collapsed": true
   },
   "outputs": [],
   "source": [
    "# Let's create the graph input of tensorflow by defining the 'Place Holders'\n",
    "data_img_shape = 28*28  # 784 input units\n",
    "digit_recognition = 10  # 10 classes : 0-9 digits or output units\n",
    "hidden_num_units = 500  # hidden layer units\n",
    "\n",
    "x = tf.placeholder(tf.float32,[None,data_img_shape])\n",
    "y = tf.placeholder(tf.float32,[None,digit_recognition])\n",
    "\n",
    "epochs = 5\n",
    "batch_size = 128\n",
    "learning_rate = 0.01\n",
    "training_iteration = 50\n",
    "\n",
    "# Let's define weights and biases of our model\n",
    "\n",
    "# weights are the probablity that affects how data flow in the graph and \n",
    "# it will be updated continously during training\n",
    "# so that our results will be closer to the right solution\n",
    "weights = {\n",
    "    'hidden' : tf.Variable(tf.random_normal([data_img_shape,hidden_num_units],seed=seed)),\n",
    "    'output' : tf.Variable(tf.random_normal([hidden_num_units,digit_recognition],seed=seed))\n",
    "}\n",
    "\n",
    "# bias is to shift our regression line to better fit the data \n",
    "biases = {\n",
    "     'hidden' : tf.Variable(tf.random_normal([hidden_num_units],seed=seed)),\n",
    "     'output' : tf.Variable(tf.random_normal([digit_recognition],seed=seed))\n",
    "}\n",
    "\n",
    "# let's create our neural network computaional graph \n",
    "\n",
    "hidden_layer = tf.add(tf.matmul(x,weights['hidden']),biases['hidden'])\n",
    "hidden_layer = tf.nn.relu(hidden_layer)\n",
    "\n",
    "output_layer = tf.add(tf.matmul(hidden_layer,weights['output']),biases['output'])\n",
    "\n",
    "# let's define our cost function \n",
    "# cost function minimize our erroe during training\n",
    "# we will use cross entropy method to define the cost function\n",
    "cost = tf.reduce_mean(tf.nn.softmax_cross_entropy_with_logits(logits = output_layer, labels = y))\n",
    "\n",
    "\n",
    "# let's set the optimizer i.e our backpropagation algorithim\n",
    "# Here we use Adam, which is an efficient variant of Gradient Descent algorithm\n",
    "# optimizer makes our model self improve through the training\n",
    "\n",
    "optimizer = tf.train.AdamOptimizer(learning_rate=learning_rate).minimize(cost)\n",
    "\n",
    "# We finish the architecture of our neural network\n",
    "# nOw we will initialize all the variables\n",
    "\n"
   ]
  },
  {
   "cell_type": "code",
   "execution_count": 15,
   "metadata": {
    "scrolled": true
   },
   "outputs": [
    {
     "name": "stdout",
     "output_type": "stream",
     "text": [
      "INFO:tensorflow:Restoring parameters from E:/Pycharm Install/TensorflowProjects/cps/model.ckpt\n",
      "Validation Accuracy: 0.9817\n"
     ]
    }
   ],
   "source": [
    "# Let's create an session and run our neural network in that session to train it\n",
    "\n",
    "\n",
    "checkpoint_dir = \"E:/Pycharm Install/TensorflowProjects/cps/\"\n",
    "saver = tf.train.Saver()\n",
    "\n",
    "sess = tf.InteractiveSession()\n",
    "tf.global_variables_initializer().run()\n",
    "\n",
    "\n",
    "ckpt = tf.train.get_checkpoint_state(checkpoint_dir)\n",
    "\n",
    "\n",
    "if ckpt and ckpt.model_checkpoint_path:\n",
    "    saver.restore(sess, ckpt.model_checkpoint_path)\n",
    "else:\n",
    "    print(\"No checkpoint found ! Train the data\")\n",
    "    for iteration in range(1000):\n",
    "        avg_cost = 0\n",
    "        total_batch = int(mnist.train.num_examples/batch_size)\n",
    "        for i in range(50):\n",
    "            batch_x,batch_y =  mnist.train.next_batch(total_batch)  # create pre-processed batch\n",
    "            _,c = sess.run([optimizer,cost],feed_dict = {x:batch_x , y:batch_y})   # feed the batch to optimizer\n",
    "\n",
    "            avg_cost += c / total_batch          #find cost and reiterate to minimize\n",
    "\n",
    "        print (\"iteration :\", (iteration+1), \"cost =\", \"{:.5f}\".format(avg_cost))\n",
    "    print (\"\\nTraining complete!\")\n",
    "\n",
    "    #saving the session for later use\n",
    "    saver.save(sess, checkpoint_dir+'model.ckpt')\n",
    "\n",
    "pred_temp = tf.equal(tf.argmax(output_layer,1),tf.argmax(y,1))\n",
    "accuracy = tf.reduce_mean(tf.cast(pred_temp,'float'))\n",
    "\n",
    "\n",
    "#print (\"Validation Accuracy:\", accuracy.eval({x:mnist.test.images, y: mnist.test.labels}))   \n",
    "print (\"Validation Accuracy:\", sess.run(accuracy, feed_dict={x: mnist.test.images, y: mnist.test.labels})) \n",
    "    "
   ]
  },
  {
   "cell_type": "code",
   "execution_count": 20,
   "metadata": {
    "collapsed": true
   },
   "outputs": [],
   "source": [
    "import math\n",
    "\n",
    "# get the best shift value for shifting\n",
    "def getBestShift(img):\n",
    "    cx,cy = ndimage.measurements.center_of_mass(img)\n",
    "    rows,cols = img.shape\n",
    "    shiftX = np.round(cols/2.0-cx).astype(int)\n",
    "    shiftY = np.round(rows/2.0-cy).astype(int)\n",
    "    return shiftX,shiftY\n",
    "\n",
    "# shift the img to the center\n",
    "def shift(img,shiftx,shifty):\n",
    "    rows,cols = img.shape\n",
    "    M = np.float32([[1,0,shiftx],[0,1,shifty]])\n",
    "    shifted = cv2.warpAffine(img,M,(cols,rows))\n",
    "    return shifted\n",
    "\n",
    "def imageprepare(X,Y):\n",
    "    #create an array to store the eight images\n",
    "    images = np.zeros((6,784))\n",
    "\n",
    "    #array to store correct values\n",
    "    correct_vals = np.zeros((6,10))\n",
    "\n",
    "    i = 0;\n",
    "    for x in [0,2,4,5,6,8]:\n",
    "        gray = cv2.imread(\"E:/Pycharm Install/TensorflowProjects/realImg_png/\"+str(x)+\".png\",0)\n",
    "        \n",
    "        # resize the images and invert it (black background) \n",
    "        gray = cv2.resize(255-gray,(28,28))\n",
    "        \n",
    "        #Okay it's quite obvious that the images doesn't \n",
    "        #look like the trained ones. These are white digits on a gray background and not on a black one.\n",
    "        \n",
    "        (thresh, gray) = cv2.threshold(gray, 128, 255, cv2.THRESH_BINARY | cv2.THRESH_OTSU)\n",
    "         \n",
    "        \"\"\"All images are size normalized to fit in a\n",
    "        20x20 pixel box and there are centered in a 28x28 image \n",
    "        using the center of mass. These are important information for our preprocessing.\"\"\"\n",
    "        \n",
    "        \"\"\"First we want to fit the images into this 20x20 pixel box.\n",
    "        Therefore we need to remove every row and column at the sides of the image which are completely black\"\"\"\n",
    "        \n",
    "        while np.sum(gray[0]) == 0:\n",
    "              gray = gray[1:]\n",
    "\n",
    "        while np.sum(gray[:,0]) == 0:\n",
    "              gray = np.delete(gray,0,1)\n",
    "\n",
    "        while np.sum(gray[-1]) == 0:\n",
    "              gray = gray[:-1]\n",
    "\n",
    "        while np.sum(gray[:,-1]) == 0:\n",
    "              gray = np.delete(gray,-1,1)\n",
    "\n",
    "        rows,cols = gray.shape\n",
    "        \n",
    "        \"\"\"Now we resize our outer box to fit it into a 20x20 box. Let's calculate the resize factor:\"\"\"\n",
    "        \n",
    "        if rows > cols:\n",
    "            factor = 20.0/rows\n",
    "            rows = 20\n",
    "            cols = int(round(cols*factor))\n",
    "            gray = cv2.resize(gray, (cols,rows))\n",
    "        else:\n",
    "            factor = 20.0/cols\n",
    "            cols = 20\n",
    "            rows = int(round(rows*factor))\n",
    "            gray = cv2.resize(gray, (cols, rows))\n",
    "        \n",
    "        \"\"\"But at the end we need a 28x28 pixel image so we add the missing black\n",
    "        rows and columns using the np.lib.pad function which adds 0s to the sides.\"\"\"\n",
    "            \n",
    "        colsPadding = (int(math.ceil((28-cols)/2.0)),int(math.floor((28-cols)/2.0)))\n",
    "        rowsPadding = (int(math.ceil((28-rows)/2.0)),int(math.floor((28-rows)/2.0)))\n",
    "        gray = np.lib.pad(gray,(rowsPadding,colsPadding),'constant')\n",
    "        \n",
    "        \n",
    "        \"\"\" Here comes the shift operation \"\"\"\n",
    "        \n",
    "        #shiftx,shifty = getBestShift(gray)\n",
    "        #shifted = shift(gray,shiftx,shifty)\n",
    "        #gray = shifted\n",
    "        \n",
    "        \n",
    "        cv2.imwrite(\"E:/Pycharm Install/TensorflowProjects/realImg_png/edited/\"+str(x)+\".png\", gray)\n",
    "\n",
    "        \n",
    "        \"\"\"\n",
    "        all images in the training set have an range from 0-1\n",
    "        and not from 0-255 so we divide our flatten images\n",
    "        (a one dimensional vector with our 784 pixels)\n",
    "        to use the same 0-1 based range\n",
    "        \"\"\"\n",
    "        flatten = gray.flatten() / 255.0\n",
    "        \n",
    "        \"\"\"The next step is to shift the inner box so that it is centered using the center of mass.\"\"\"\n",
    "        \n",
    "        \n",
    "        \n",
    "        \n",
    "        \"\"\"\n",
    "        we need to store the flatten image and generate\n",
    "        the correct_vals array\n",
    "        correct_val for the first digit (9) would be\n",
    "        [0,0,0,0,0,0,0,0,0,1]\n",
    "        \"\"\"\n",
    "        \n",
    "        \n",
    "        \n",
    "        images[i] = flatten\n",
    "        correct_val = np.zeros((10))\n",
    "        correct_val[x] = 1\n",
    "        correct_vals[i] = correct_val\n",
    "        i += 1\n",
    "\n",
    "    prediction = tf.argmax(output_layer,1)\n",
    "    \n",
    "    \n",
    "    \"\"\"\n",
    "    we want to run the prediction and the accuracy function\n",
    "    using our generated arrays (images and correct_vals)\n",
    "    \"\"\"\n",
    "    pred = prediction.eval({X: images})\n",
    "    #print (sess.run(prediction, feed_dict={X: images, Y: correct_vals}))\n",
    "    print(pred)\n",
    "    print (sess.run(accuracy, feed_dict={X: images, Y: correct_vals})*100) "
   ]
  },
  {
   "cell_type": "code",
   "execution_count": 21,
   "metadata": {},
   "outputs": [
    {
     "name": "stdout",
     "output_type": "stream",
     "text": [
      "[0 2 4 5 6 5]\n",
      "83.3333313465\n"
     ]
    }
   ],
   "source": [
    "imageprepare(x,y)\n",
    "\n",
    "\n",
    "#from random import randint\n",
    "#img_num = randint(49000,69999)\n",
    "#filepath = 'E:/Pycharm Install/TensorflowProjects/Train/Images/test/'+str(img_num)+'.png'\n",
    "\n",
    "\n",
    "#img_ = imread(filepath, flatten=True)\n",
    "\n",
    "#predict = tf.argmax(output_layer, 1)\n",
    "#pred = predict.eval({x: img_.reshape(-1,data_img_shape)})\n",
    "    \n",
    "#print (\"Prediction of mnist test data  is: \", pred[0])\n",
    "#plt.imshow(img_, cmap='gray')\n",
    "#plt.axis('off')\n",
    "#plt.show()"
   ]
  },
  {
   "cell_type": "code",
   "execution_count": null,
   "metadata": {
    "collapsed": true
   },
   "outputs": [],
   "source": []
  },
  {
   "cell_type": "code",
   "execution_count": null,
   "metadata": {
    "collapsed": true
   },
   "outputs": [],
   "source": []
  }
 ],
 "metadata": {
  "kernelspec": {
   "display_name": "Python 3",
   "language": "python",
   "name": "python3"
  },
  "language_info": {
   "codemirror_mode": {
    "name": "ipython",
    "version": 3
   },
   "file_extension": ".py",
   "mimetype": "text/x-python",
   "name": "python",
   "nbconvert_exporter": "python",
   "pygments_lexer": "ipython3",
   "version": "3.5.3"
  }
 },
 "nbformat": 4,
 "nbformat_minor": 2
}
